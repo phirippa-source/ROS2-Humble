import rclpy as rp                        # rclpy : ros comon library for python
from turtlesim.msg import Pose            # /turtle1/pose [turtlesim/msg/Pose]

rp.init()
node = rp.create_node('subscriber')
